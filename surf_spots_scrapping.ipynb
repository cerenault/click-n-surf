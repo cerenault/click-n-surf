{
 "cells": [
  {
   "cell_type": "code",
   "execution_count": null,
   "id": "e937eebe",
   "metadata": {},
   "outputs": [],
   "source": [
    "pip install beautifulsoup4 requests"
   ]
  },
  {
   "cell_type": "code",
   "execution_count": null,
   "id": "90451fd8",
   "metadata": {},
   "outputs": [],
   "source": [
    "#Import all librairies used\n",
    "from bs4 import BeautifulSoup\n",
    "import requests\n",
    "import pandas as pd"
   ]
  },
  {
   "cell_type": "code",
   "execution_count": null,
   "id": "c6e98b41",
   "metadata": {},
   "outputs": [],
   "source": [
    "#This is the website that we're scrapping\n",
    "url=\"https://www.surfingfrance.com/federation/les-spots-de-surf-en-france.html\""
   ]
  },
  {
   "cell_type": "code",
   "execution_count": null,
   "id": "1972d71f",
   "metadata": {},
   "outputs": [],
   "source": [
    "reponse=requests.get(url)"
   ]
  },
  {
   "cell_type": "code",
   "execution_count": null,
   "id": "c0442a60",
   "metadata": {},
   "outputs": [],
   "source": [
    "soup=BeautifulSoup(reponse.text, \"html.parser\")\n",
    "soup.pretify"
   ]
  },
  {
   "cell_type": "code",
   "execution_count": null,
   "id": "bbac381d",
   "metadata": {},
   "outputs": [],
   "source": [
    "#The div itemFullText contains just the spots\n",
    "items=soup.find_all(\"div\", class_=\"itemFullText\")\n",
    "\n",
    "list_spots=[]\n",
    "i=0\n",
    "region=\"aucun\"\n",
    "       \n",
    "for spot in items[0].find_all([\"h2\", \"li\", \"a\"]):\n",
    "    new_spot={}\n",
    "    try:\n",
    "        new_spot['name']=spot.a.text\n",
    "        if (spot.find_previous('h2').text.find(region) == -1):\n",
    "            region=spot.find_previous('h2').text\n",
    "            if(region.find(\"\\xa0\") == 0):\n",
    "                region=region.split(\"\\xa0\")[1]\n",
    "        new_spot['region']=region\n",
    "        \n",
    "        new_spot['link']=spot.a.get(\"href\")\n",
    "        \n",
    "        new_spot['latitude']=spot.a.get(\"href\").split('/@')[1].split('/')[0].split(',')[0]\n",
    "        new_spot['longitude']=spot.a.get(\"href\").split('/@')[1].split('/')[0].split(',')[1]\n",
    "        \n",
    "    except:\n",
    "        pass\n",
    "    if new_spot != {}:\n",
    "        list_spots.append(new_spot)\n",
    "\n",
    "list_spots"
   ]
  },
  {
   "cell_type": "code",
   "execution_count": null,
   "id": "bbf976e0",
   "metadata": {},
   "outputs": [],
   "source": [
    "df=pd.DataFrame(list_spots, columns=['name', 'region', 'link', 'latitude', 'longitude'])\n",
    "df.to_csv(\"dataset_surf_spots.csv\", index=True, encoding='utf-8')"
   ]
  },
  {
   "cell_type": "code",
   "execution_count": null,
   "id": "104107ed",
   "metadata": {},
   "outputs": [],
   "source": [
    "df.head"
   ]
  }
 ],
 "metadata": {
  "kernelspec": {
   "display_name": "Python 3 (ipykernel)",
   "language": "python",
   "name": "python3"
  },
  "language_info": {
   "codemirror_mode": {
    "name": "ipython",
    "version": 3
   },
   "file_extension": ".py",
   "mimetype": "text/x-python",
   "name": "python",
   "nbconvert_exporter": "python",
   "pygments_lexer": "ipython3",
   "version": "3.9.9"
  }
 },
 "nbformat": 4,
 "nbformat_minor": 5
}
